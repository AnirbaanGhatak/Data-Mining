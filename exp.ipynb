{
 "cells": [
  {
   "cell_type": "code",
   "execution_count": 1,
   "metadata": {},
   "outputs": [],
   "source": [
    "import pandas as pd\n",
    "import numpy as np\n",
    "import matplotlib.pyplot as plt"
   ]
  },
  {
   "cell_type": "code",
   "execution_count": 9,
   "metadata": {},
   "outputs": [
    {
     "name": "stdout",
     "output_type": "stream",
     "text": [
      "7\n"
     ]
    }
   ],
   "source": [
    "df = pd.read_csv('mtcars.csv')\n",
    "\n",
    "plt.scatter(df['mpg'], df['wt'])\n",
    "plt.ylabel('Weight')\n",
    "plt.xlabel('Miles per Gallon')\n"
   ]
  },
  {
   "cell_type": "code",
   "execution_count": null,
   "metadata": {},
   "outputs": [],
   "source": [
    "df = pd.read_csv('mtcars.csv')\n",
    "\n",
    "plt.hist(df['mpg'])"
   ]
  },
  {
   "cell_type": "code",
   "execution_count": 6,
   "metadata": {},
   "outputs": [
    {
     "name": "stdout",
     "output_type": "stream",
     "text": [
      "7\n"
     ]
    }
   ],
   "source": [
    "df = pd.read_csv('churn.csv')\n",
    "\n",
    "dc = df.duplicated(subset=['customerID']).sum()\n",
    "\n",
    "print(dc)\n"
   ]
  },
  {
   "cell_type": "code",
   "execution_count": 15,
   "metadata": {},
   "outputs": [
    {
     "name": "stdout",
     "output_type": "stream",
     "text": [
      "Index(['Unnamed: 0', 'customerID', 'tenure', 'Contract', 'PaperlessBilling',\n",
      "       'PaymentMethod', 'MonthlyCharges', 'TotalCharges', 'gender',\n",
      "       'SeniorCitizen', 'Partner', 'Dependents', 'PhoneService',\n",
      "       'MultipleLines', 'InternetService', 'OnlineSecurity', 'OnlineBackup',\n",
      "       'DeviceProtection', 'TechSupport', 'StreamingTV', 'StreamingMovies',\n",
      "       'Churn'],\n",
      "      dtype='object')\n"
     ]
    }
   ],
   "source": [
    "print(df.columns)"
   ]
  },
  {
   "cell_type": "code",
   "execution_count": 13,
   "metadata": {},
   "outputs": [
    {
     "name": "stdout",
     "output_type": "stream",
     "text": [
      "15\n"
     ]
    }
   ],
   "source": [
    "print(df['TotalCharges'].isna().sum())"
   ]
  },
  {
   "cell_type": "code",
   "execution_count": 18,
   "metadata": {},
   "outputs": [
    {
     "name": "stdout",
     "output_type": "stream",
     "text": [
      "62.47348178137652\n"
     ]
    }
   ],
   "source": [
    "print(df['MonthlyCharges'].mean())"
   ]
  },
  {
   "cell_type": "code",
   "execution_count": 24,
   "metadata": {},
   "outputs": [
    {
     "name": "stdout",
     "output_type": "stream",
     "text": [
      "6\n"
     ]
    }
   ],
   "source": [
    "print(df[df['Dependents'] == \"1@#\"].shape[0])"
   ]
  },
  {
   "cell_type": "code",
   "execution_count": 3,
   "metadata": {},
   "outputs": [
    {
     "name": "stdout",
     "output_type": "stream",
     "text": [
      "<class 'pandas.core.frame.DataFrame'>\n",
      "RangeIndex: 257 entries, 0 to 256\n",
      "Data columns (total 22 columns):\n",
      " #   Column            Non-Null Count  Dtype  \n",
      "---  ------            --------------  -----  \n",
      " 0   Unnamed: 0        257 non-null    int64  \n",
      " 1   customerID        257 non-null    object \n",
      " 2   tenure            257 non-null    object \n",
      " 3   Contract          257 non-null    object \n",
      " 4   PaperlessBilling  257 non-null    object \n",
      " 5   PaymentMethod     257 non-null    object \n",
      " 6   MonthlyCharges    247 non-null    float64\n",
      " 7   TotalCharges      242 non-null    float64\n",
      " 8   gender            257 non-null    object \n",
      " 9   SeniorCitizen     252 non-null    float64\n",
      " 10  Partner           257 non-null    object \n",
      " 11  Dependents        257 non-null    object \n",
      " 12  PhoneService      257 non-null    object \n",
      " 13  MultipleLines     257 non-null    object \n",
      " 14  InternetService   257 non-null    object \n",
      " 15  OnlineSecurity    257 non-null    object \n",
      " 16  OnlineBackup      257 non-null    object \n",
      " 17  DeviceProtection  257 non-null    object \n",
      " 18  TechSupport       257 non-null    object \n",
      " 19  StreamingTV       257 non-null    object \n",
      " 20  StreamingMovies   257 non-null    object \n",
      " 21  Churn             257 non-null    object \n",
      "dtypes: float64(3), int64(1), object(18)\n",
      "memory usage: 44.3+ KB\n"
     ]
    }
   ],
   "source": [
    "df.info()"
   ]
  },
  {
   "cell_type": "code",
   "execution_count": 7,
   "metadata": {},
   "outputs": [
    {
     "name": "stdout",
     "output_type": "stream",
     "text": [
      "0       1\n",
      "1      39\n",
      "2       2\n",
      "3       6\n",
      "4       4\n",
      "       ..\n",
      "252     1\n",
      "253    44\n",
      "254    44\n",
      "255    44\n",
      "256    44\n",
      "Name: tenure, Length: 257, dtype: object\n"
     ]
    }
   ],
   "source": [
    "df['tenure'] = df['tenure'].replace({'Four': 4, 'One': 1})\n",
    "print(df['tenure'])"
   ]
  },
  {
   "cell_type": "code",
   "execution_count": 5,
   "metadata": {},
   "outputs": [
    {
     "name": "stdout",
     "output_type": "stream",
     "text": [
      "0       1\n",
      "1      39\n",
      "2       2\n",
      "3       6\n",
      "4       4\n",
      "       ..\n",
      "252     1\n",
      "253    44\n",
      "254    44\n",
      "255    44\n",
      "256    44\n",
      "Name: tenure, Length: 257, dtype: object\n"
     ]
    }
   ],
   "source": []
  }
 ],
 "metadata": {
  "kernelspec": {
   "display_name": "Python 3",
   "language": "python",
   "name": "python3"
  },
  "language_info": {
   "codemirror_mode": {
    "name": "ipython",
    "version": 3
   },
   "file_extension": ".py",
   "mimetype": "text/x-python",
   "name": "python",
   "nbconvert_exporter": "python",
   "pygments_lexer": "ipython3",
   "version": "3.10.7"
  },
  "orig_nbformat": 4
 },
 "nbformat": 4,
 "nbformat_minor": 2
}
