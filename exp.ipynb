{
 "cells": [
  {
   "cell_type": "markdown",
   "metadata": {},
   "source": [
    "Which country has won the most gold medals in summer games?\n",
    "\n",
    "Which country had the biggest difference between their summer and winter gold medal counts?\n",
    "\n",
    "Which country has the biggest difference between their summer and winter gold medal counts relative to their total gold medal count? Only include countries that have won at least 1 gold in both summer and winter.\n",
    "\n",
    "Write a function to update the dataframe to include a new column called \"Points\" which is a weighted value where each gold medal counts for 3 points, silver medals for 2 points, and bronze medals for 1 point. The function should return only the column (a Series object) which you created"
   ]
  },
  {
   "cell_type": "code",
   "execution_count": 1,
   "metadata": {},
   "outputs": [],
   "source": [
    "import pandas as pd\n",
    "import numpy as np\n",
    "import matplotlib.pyplot as plt"
   ]
  },
  {
   "cell_type": "code",
   "execution_count": 32,
   "metadata": {},
   "outputs": [
    {
     "name": "stdout",
     "output_type": "stream",
     "text": [
      "                Country Name   Summer  Summer_gold  Summer_silver  \\\n",
      "0          Afghanistan (AFG)       13            0              0   \n",
      "1              Algeria (ALG)       12            5              2   \n",
      "2            Argentina (ARG)       23           18             24   \n",
      "3              Armenia (ARM)        5            1              2   \n",
      "4    Australasia (ANZ) [ANZ]        2            3              4   \n",
      "5  Australia (AUS) [AUS] [Z]       25          139            152   \n",
      "6              Austria (AUT)       26           18             33   \n",
      "7           Azerbaijan (AZE)        5            6              5   \n",
      "8              Bahamas (BAH)       15            5              2   \n",
      "9              Bahrain (BRN)        8            0              0   \n",
      "\n",
      "   Summer_bronze  Total   Winter  Winter_gold  Winter_silver  Winter_bronze  \\\n",
      "0              2      2        0            0              0              0   \n",
      "1              8     15        3            0              0              0   \n",
      "2             28     70       18            0              0              0   \n",
      "3              9     12        6            0              0              0   \n",
      "4              5     12        0            0              0              0   \n",
      "5            177    468       18            5              3              4   \n",
      "6             35     86       22           59             78             81   \n",
      "7             15     26        5            0              0              0   \n",
      "8              5     12        0            0              0              0   \n",
      "9              1      1        0            0              0              0   \n",
      "\n",
      "   Total.1  â Games  Total_gold  Total_silver  Total_bronze  Combined total  \n",
      "0        0       13           0             0             2               2  \n",
      "1        0       15           5             2             8              15  \n",
      "2        0       41          18            24            28              70  \n",
      "3        0       11           1             2             9              12  \n",
      "4        0        2           3             4             5              12  \n",
      "5       12       43         144           155           181             480  \n",
      "6      218       48          77           111           116             304  \n",
      "7        0       10           6             5            15              26  \n",
      "8        0       15           5             2             5              12  \n",
      "9        0        8           0             0             1               1  \n"
     ]
    }
   ],
   "source": [
    "df = pd.read_csv('olympics.csv', encoding='ISO-8859-1')\n",
    "df['Country Name'] = df['Country Name'].str.replace('Â', '')\n",
    "print(df.head(10))"
   ]
  },
  {
   "cell_type": "code",
   "execution_count": 17,
   "metadata": {},
   "outputs": [
    {
     "data": {
      "text/plain": [
       "(147, 16)"
      ]
     },
     "execution_count": 17,
     "metadata": {},
     "output_type": "execute_result"
    }
   ],
   "source": [
    "df.shape\n"
   ]
  },
  {
   "cell_type": "code",
   "execution_count": 16,
   "metadata": {},
   "outputs": [
    {
     "data": {
      "text/plain": [
       "2352"
      ]
     },
     "execution_count": 16,
     "metadata": {},
     "output_type": "execute_result"
    }
   ],
   "source": [
    "df.size"
   ]
  },
  {
   "cell_type": "code",
   "execution_count": 18,
   "metadata": {},
   "outputs": [
    {
     "name": "stdout",
     "output_type": "stream",
     "text": [
      "<class 'pandas.core.frame.DataFrame'>\n",
      "RangeIndex: 147 entries, 0 to 146\n",
      "Data columns (total 16 columns):\n",
      " #   Column          Non-Null Count  Dtype \n",
      "---  ------          --------------  ----- \n",
      " 0   Country Name    147 non-null    object\n",
      " 1    Summer         147 non-null    int64 \n",
      " 2   Summer_gold     147 non-null    int64 \n",
      " 3   Summer_silver   147 non-null    int64 \n",
      " 4   Summer_bronze   147 non-null    int64 \n",
      " 5   Total           147 non-null    int64 \n",
      " 6    Winter         147 non-null    int64 \n",
      " 7   Winter_gold     147 non-null    int64 \n",
      " 8   Winter_silver   147 non-null    int64 \n",
      " 9   Winter_bronze   147 non-null    int64 \n",
      " 10  Total.1         147 non-null    int64 \n",
      " 11  â Games         147 non-null    int64 \n",
      " 12  Total_gold      147 non-null    int64 \n",
      " 13  Total_silver    147 non-null    int64 \n",
      " 14  Total_bronze    147 non-null    int64 \n",
      " 15  Combined total  147 non-null    int64 \n",
      "dtypes: int64(15), object(1)\n",
      "memory usage: 18.5+ KB\n"
     ]
    }
   ],
   "source": [
    "df.info()"
   ]
  },
  {
   "cell_type": "code",
   "execution_count": 24,
   "metadata": {},
   "outputs": [
    {
     "data": {
      "text/plain": [
       "Index(['Country Name', ' Summer', 'Summer_gold', 'Summer_silver',\n",
       "       'Summer_bronze', 'Total', ' Winter', 'Winter_gold', 'Winter_silver',\n",
       "       'Winter_bronze', 'Total.1', 'â Games', 'Total_gold', 'Total_silver',\n",
       "       'Total_bronze', 'Combined total'],\n",
       "      dtype='object')"
      ]
     },
     "execution_count": 24,
     "metadata": {},
     "output_type": "execute_result"
    }
   ],
   "source": [
    "df.columns"
   ]
  },
  {
   "cell_type": "code",
   "execution_count": 25,
   "metadata": {},
   "outputs": [
    {
     "data": {
      "text/html": [
       "<div>\n",
       "<style scoped>\n",
       "    .dataframe tbody tr th:only-of-type {\n",
       "        vertical-align: middle;\n",
       "    }\n",
       "\n",
       "    .dataframe tbody tr th {\n",
       "        vertical-align: top;\n",
       "    }\n",
       "\n",
       "    .dataframe thead th {\n",
       "        text-align: right;\n",
       "    }\n",
       "</style>\n",
       "<table border=\"1\" class=\"dataframe\">\n",
       "  <thead>\n",
       "    <tr style=\"text-align: right;\">\n",
       "      <th></th>\n",
       "      <th>Summer</th>\n",
       "      <th>Summer_gold</th>\n",
       "      <th>Summer_silver</th>\n",
       "      <th>Summer_bronze</th>\n",
       "      <th>Total</th>\n",
       "      <th>Winter</th>\n",
       "      <th>Winter_gold</th>\n",
       "      <th>Winter_silver</th>\n",
       "      <th>Winter_bronze</th>\n",
       "      <th>Total.1</th>\n",
       "      <th>â Games</th>\n",
       "      <th>Total_gold</th>\n",
       "      <th>Total_silver</th>\n",
       "      <th>Total_bronze</th>\n",
       "      <th>Combined total</th>\n",
       "    </tr>\n",
       "  </thead>\n",
       "  <tbody>\n",
       "    <tr>\n",
       "      <th>count</th>\n",
       "      <td>147.000000</td>\n",
       "      <td>147.000000</td>\n",
       "      <td>147.000000</td>\n",
       "      <td>147.000000</td>\n",
       "      <td>147.000000</td>\n",
       "      <td>147.000000</td>\n",
       "      <td>147.000000</td>\n",
       "      <td>147.000000</td>\n",
       "      <td>147.000000</td>\n",
       "      <td>147.000000</td>\n",
       "      <td>147.000000</td>\n",
       "      <td>147.000000</td>\n",
       "      <td>147.000000</td>\n",
       "      <td>147.000000</td>\n",
       "      <td>147.000000</td>\n",
       "    </tr>\n",
       "    <tr>\n",
       "      <th>mean</th>\n",
       "      <td>13.476190</td>\n",
       "      <td>65.428571</td>\n",
       "      <td>64.965986</td>\n",
       "      <td>69.795918</td>\n",
       "      <td>200.190476</td>\n",
       "      <td>6.700680</td>\n",
       "      <td>13.047619</td>\n",
       "      <td>13.034014</td>\n",
       "      <td>12.897959</td>\n",
       "      <td>38.979592</td>\n",
       "      <td>20.176871</td>\n",
       "      <td>78.476190</td>\n",
       "      <td>78.000000</td>\n",
       "      <td>82.693878</td>\n",
       "      <td>239.170068</td>\n",
       "    </tr>\n",
       "    <tr>\n",
       "      <th>std</th>\n",
       "      <td>7.072359</td>\n",
       "      <td>405.549990</td>\n",
       "      <td>399.309960</td>\n",
       "      <td>427.187344</td>\n",
       "      <td>1231.306297</td>\n",
       "      <td>7.433186</td>\n",
       "      <td>80.799204</td>\n",
       "      <td>80.634421</td>\n",
       "      <td>79.588388</td>\n",
       "      <td>240.917324</td>\n",
       "      <td>13.257048</td>\n",
       "      <td>485.013378</td>\n",
       "      <td>478.860334</td>\n",
       "      <td>505.855110</td>\n",
       "      <td>1469.067883</td>\n",
       "    </tr>\n",
       "    <tr>\n",
       "      <th>min</th>\n",
       "      <td>1.000000</td>\n",
       "      <td>0.000000</td>\n",
       "      <td>0.000000</td>\n",
       "      <td>0.000000</td>\n",
       "      <td>0.000000</td>\n",
       "      <td>0.000000</td>\n",
       "      <td>0.000000</td>\n",
       "      <td>0.000000</td>\n",
       "      <td>0.000000</td>\n",
       "      <td>0.000000</td>\n",
       "      <td>1.000000</td>\n",
       "      <td>0.000000</td>\n",
       "      <td>0.000000</td>\n",
       "      <td>0.000000</td>\n",
       "      <td>1.000000</td>\n",
       "    </tr>\n",
       "    <tr>\n",
       "      <th>25%</th>\n",
       "      <td>8.000000</td>\n",
       "      <td>0.000000</td>\n",
       "      <td>1.000000</td>\n",
       "      <td>1.000000</td>\n",
       "      <td>2.000000</td>\n",
       "      <td>0.000000</td>\n",
       "      <td>0.000000</td>\n",
       "      <td>0.000000</td>\n",
       "      <td>0.000000</td>\n",
       "      <td>0.000000</td>\n",
       "      <td>11.000000</td>\n",
       "      <td>0.000000</td>\n",
       "      <td>1.000000</td>\n",
       "      <td>1.000000</td>\n",
       "      <td>2.500000</td>\n",
       "    </tr>\n",
       "    <tr>\n",
       "      <th>50%</th>\n",
       "      <td>13.000000</td>\n",
       "      <td>3.000000</td>\n",
       "      <td>4.000000</td>\n",
       "      <td>6.000000</td>\n",
       "      <td>12.000000</td>\n",
       "      <td>5.000000</td>\n",
       "      <td>0.000000</td>\n",
       "      <td>0.000000</td>\n",
       "      <td>0.000000</td>\n",
       "      <td>0.000000</td>\n",
       "      <td>15.000000</td>\n",
       "      <td>3.000000</td>\n",
       "      <td>4.000000</td>\n",
       "      <td>7.000000</td>\n",
       "      <td>12.000000</td>\n",
       "    </tr>\n",
       "    <tr>\n",
       "      <th>75%</th>\n",
       "      <td>18.500000</td>\n",
       "      <td>24.000000</td>\n",
       "      <td>28.000000</td>\n",
       "      <td>29.000000</td>\n",
       "      <td>86.000000</td>\n",
       "      <td>10.000000</td>\n",
       "      <td>1.000000</td>\n",
       "      <td>2.000000</td>\n",
       "      <td>1.000000</td>\n",
       "      <td>5.000000</td>\n",
       "      <td>27.000000</td>\n",
       "      <td>25.500000</td>\n",
       "      <td>29.000000</td>\n",
       "      <td>32.500000</td>\n",
       "      <td>89.000000</td>\n",
       "    </tr>\n",
       "    <tr>\n",
       "      <th>max</th>\n",
       "      <td>27.000000</td>\n",
       "      <td>4809.000000</td>\n",
       "      <td>4775.000000</td>\n",
       "      <td>5130.000000</td>\n",
       "      <td>14714.000000</td>\n",
       "      <td>22.000000</td>\n",
       "      <td>959.000000</td>\n",
       "      <td>958.000000</td>\n",
       "      <td>948.000000</td>\n",
       "      <td>2865.000000</td>\n",
       "      <td>49.000000</td>\n",
       "      <td>5768.000000</td>\n",
       "      <td>5733.000000</td>\n",
       "      <td>6078.000000</td>\n",
       "      <td>17579.000000</td>\n",
       "    </tr>\n",
       "  </tbody>\n",
       "</table>\n",
       "</div>"
      ],
      "text/plain": [
       "           Summer  Summer_gold  Summer_silver  Summer_bronze         Total  \\\n",
       "count  147.000000   147.000000     147.000000     147.000000    147.000000   \n",
       "mean    13.476190    65.428571      64.965986      69.795918    200.190476   \n",
       "std      7.072359   405.549990     399.309960     427.187344   1231.306297   \n",
       "min      1.000000     0.000000       0.000000       0.000000      0.000000   \n",
       "25%      8.000000     0.000000       1.000000       1.000000      2.000000   \n",
       "50%     13.000000     3.000000       4.000000       6.000000     12.000000   \n",
       "75%     18.500000    24.000000      28.000000      29.000000     86.000000   \n",
       "max     27.000000  4809.000000    4775.000000    5130.000000  14714.000000   \n",
       "\n",
       "           Winter  Winter_gold  Winter_silver  Winter_bronze      Total.1  \\\n",
       "count  147.000000   147.000000     147.000000     147.000000   147.000000   \n",
       "mean     6.700680    13.047619      13.034014      12.897959    38.979592   \n",
       "std      7.433186    80.799204      80.634421      79.588388   240.917324   \n",
       "min      0.000000     0.000000       0.000000       0.000000     0.000000   \n",
       "25%      0.000000     0.000000       0.000000       0.000000     0.000000   \n",
       "50%      5.000000     0.000000       0.000000       0.000000     0.000000   \n",
       "75%     10.000000     1.000000       2.000000       1.000000     5.000000   \n",
       "max     22.000000   959.000000     958.000000     948.000000  2865.000000   \n",
       "\n",
       "          â Games   Total_gold  Total_silver  Total_bronze  Combined total  \n",
       "count  147.000000   147.000000    147.000000    147.000000      147.000000  \n",
       "mean    20.176871    78.476190     78.000000     82.693878      239.170068  \n",
       "std     13.257048   485.013378    478.860334    505.855110     1469.067883  \n",
       "min      1.000000     0.000000      0.000000      0.000000        1.000000  \n",
       "25%     11.000000     0.000000      1.000000      1.000000        2.500000  \n",
       "50%     15.000000     3.000000      4.000000      7.000000       12.000000  \n",
       "75%     27.000000    25.500000     29.000000     32.500000       89.000000  \n",
       "max     49.000000  5768.000000   5733.000000   6078.000000    17579.000000  "
      ]
     },
     "execution_count": 25,
     "metadata": {},
     "output_type": "execute_result"
    }
   ],
   "source": [
    "df.describe()"
   ]
  },
  {
   "cell_type": "code",
   "execution_count": 28,
   "metadata": {},
   "outputs": [],
   "source": [
    "df.fillna(np.nan, inplace=True)"
   ]
  },
  {
   "cell_type": "code",
   "execution_count": 30,
   "metadata": {},
   "outputs": [
    {
     "name": "stdout",
     "output_type": "stream",
     "text": [
      "No of numerical features:  15\n",
      "No of categorical features:  1\n"
     ]
    }
   ],
   "source": [
    "num_cols = len(df.select_dtypes(include=np.number).columns)\n",
    "cat_cols = len(df.select_dtypes(include='object').columns)\n",
    "print(\"No of numerical features: \", num_cols)\n",
    "print(\"No of categorical features: \", cat_cols)"
   ]
  },
  {
   "cell_type": "code",
   "execution_count": 31,
   "metadata": {},
   "outputs": [
    {
     "data": {
      "text/plain": [
       "Country Name      147\n",
       " Summer            27\n",
       "Summer_gold        54\n",
       "Summer_silver      54\n",
       "Summer_bronze      56\n",
       "Total              75\n",
       " Winter            21\n",
       "Winter_gold        25\n",
       "Winter_silver      24\n",
       "Winter_bronze      27\n",
       "Total.1            34\n",
       "â Games            44\n",
       "Total_gold         55\n",
       "Total_silver       54\n",
       "Total_bronze       63\n",
       "Combined total     74\n",
       "dtype: int64"
      ]
     },
     "execution_count": 31,
     "metadata": {},
     "output_type": "execute_result"
    }
   ],
   "source": [
    "df.nunique()"
   ]
  },
  {
   "cell_type": "code",
   "execution_count": 4,
   "metadata": {},
   "outputs": [
    {
     "name": "stdout",
     "output_type": "stream",
     "text": [
      "United States (USA) [P] [Q] [R] [Z]\n"
     ]
    }
   ],
   "source": [
    "ef = df.sort_values(by=['Summer_gold'], ascending=False)\n",
    "ef = ef.reset_index(drop=True)\n",
    "print(ef['Country Name'][1])"
   ]
  },
  {
   "cell_type": "code",
   "execution_count": 5,
   "metadata": {},
   "outputs": [
    {
     "name": "stdout",
     "output_type": "stream",
     "text": [
      "United States (USA) [P] [Q] [R] [Z]\n"
     ]
    }
   ],
   "source": [
    "ef['diff'] = ef.apply(lambda x: x['Summer_gold'] - x['Winter_gold'], axis=1)\n",
    "ef = ef.sort_values(by='diff', ascending=False).reset_index(drop=True)\n",
    "print(ef['Country Name'][1])"
   ]
  },
  {
   "cell_type": "code",
   "execution_count": 6,
   "metadata": {},
   "outputs": [
    {
     "name": "stdout",
     "output_type": "stream",
     "text": [
      "United States (USA) [P] [Q] [R] [Z]\n"
     ]
    }
   ],
   "source": [
    "ef['rd'] = ef.apply(lambda x: x['Total_gold'] - x['diff'] if x['Summer_gold']\n",
    "                    > 0 and x['Winter_gold'] > 0 and x['diff'] > 0 else None, axis=1)\n",
    "ef = ef.sort_values(by='rd', ascending=False).reset_index(drop=True)\n",
    "print(ef['Country Name'][1])"
   ]
  },
  {
   "cell_type": "code",
   "execution_count": 7,
   "metadata": {},
   "outputs": [],
   "source": [
    "def point(x):\n",
    "    return (x['Total_gold']*3) + (x['Total_silver']*2) + x['Total_bronze']\n",
    "\n",
    "ef['Total_points'] = ef.apply(point, axis=1)\n",
    "ef.sort_values(by='Country Name', ascending=True, inplace=True)\n",
    "ef.reset_index(drop=True, inplace=True)\n"
   ]
  },
  {
   "cell_type": "code",
   "execution_count": 8,
   "metadata": {},
   "outputs": [
    {
     "name": "stdout",
     "output_type": "stream",
     "text": [
      "0        2\n",
      "1       27\n",
      "2      130\n",
      "3       16\n",
      "4       22\n",
      "      ... \n",
      "142      2\n",
      "143    459\n",
      "144    171\n",
      "145      3\n",
      "146     18\n",
      "Name: Total_points, Length: 147, dtype: int64\n"
     ]
    }
   ],
   "source": [
    "print(ef['Total_points'])"
   ]
  }
 ],
 "metadata": {
  "kernelspec": {
   "display_name": "Python 3",
   "language": "python",
   "name": "python3"
  },
  "language_info": {
   "codemirror_mode": {
    "name": "ipython",
    "version": 3
   },
   "file_extension": ".py",
   "mimetype": "text/x-python",
   "name": "python",
   "nbconvert_exporter": "python",
   "pygments_lexer": "ipython3",
   "version": "3.10.7"
  },
  "orig_nbformat": 4
 },
 "nbformat": 4,
 "nbformat_minor": 2
}
