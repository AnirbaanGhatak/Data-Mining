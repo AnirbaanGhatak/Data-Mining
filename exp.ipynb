{
 "cells": [
  {
   "cell_type": "markdown",
   "metadata": {},
   "source": [
    "Which country has won the most gold medals in summer games?\n",
    "\n",
    "Which country had the biggest difference between their summer and winter gold medal counts?\n",
    "\n",
    "Which country has the biggest difference between their summer and winter gold medal counts relative to their total gold medal count? Only include countries that have won at least 1 gold in both summer and winter.\n",
    "\n",
    "Write a function to update the dataframe to include a new column called \"Points\" which is a weighted value where each gold medal counts for 3 points, silver medals for 2 points, and bronze medals for 1 point. The function should return only the column (a Series object) which you created"
   ]
  },
  {
   "cell_type": "code",
   "execution_count": 2,
   "metadata": {},
   "outputs": [],
   "source": [
    "import pandas as pd\n",
    "import numpy as np\n",
    "import matplotlib.pyplot as plt"
   ]
  },
  {
   "cell_type": "code",
   "execution_count": 8,
   "metadata": {},
   "outputs": [],
   "source": [
    "df = pd.read_csv('olympics.csv', encoding='ISO-8859-1')"
   ]
  },
  {
   "cell_type": "code",
   "execution_count": 9,
   "metadata": {},
   "outputs": [],
   "source": [
    "df['Country Name'] = df['Country Name'].str.replace('Â', '')"
   ]
  },
  {
   "cell_type": "code",
   "execution_count": 43,
   "metadata": {},
   "outputs": [
    {
     "name": "stdout",
     "output_type": "stream",
     "text": [
      "United States (USA) [P] [Q] [R] [Z]\n"
     ]
    }
   ],
   "source": [
    "ef = df.sort_values(by=['Summer_gold'], ascending=False)\n",
    "ef = ef.reset_index(drop=True)\n",
    "print(ef['Country Name'][1])"
   ]
  },
  {
   "cell_type": "code",
   "execution_count": 44,
   "metadata": {},
   "outputs": [
    {
     "name": "stdout",
     "output_type": "stream",
     "text": [
      "United States (USA) [P] [Q] [R] [Z]\n"
     ]
    }
   ],
   "source": [
    "ef['diff'] = ef.apply(lambda x: x['Summer_gold'] - x['Winter_gold'], axis=1)\n",
    "ef = ef.sort_values(by='diff', ascending=False).reset_index(drop=True)\n",
    "print(ef['Country Name'][1])"
   ]
  },
  {
   "cell_type": "code",
   "execution_count": 53,
   "metadata": {},
   "outputs": [
    {
     "name": "stdout",
     "output_type": "stream",
     "text": [
      "United States (USA) [P] [Q] [R] [Z]\n"
     ]
    }
   ],
   "source": [
    "# def func(x):\n",
    "#     if x['Summer_gold'] > 0 and x['Winter_gold'] > 0:\n",
    "#         return x['Total_gold'] - x['diff'] \n",
    "#     else:\n",
    "#         None\n",
    "\n",
    "ef['rd'] = ef.apply(lambda x: x['Total_gold'] - x['diff'] if x['Summer_gold'] > 0 and x['Winter_gold'] > 0 and x['diff'] > 0 else None, axis=1)\n",
    "ef = ef.sort_values(by='rd', ascending=False).reset_index(drop=True)\n",
    "print(ef['Country Name'][1])"
   ]
  },
  {
   "cell_type": "code",
   "execution_count": 56,
   "metadata": {},
   "outputs": [],
   "source": [
    "def point(x):\n",
    "    return (x['Total_gold']*3) + (x['Total_silver']*2) + x['Total_bronze']\n",
    "\n",
    "ef['Total_points'] = ef.apply(point, axis=1)\n",
    "ef.sort_values(by='Country Name', ascending=True, inplace=True)\n",
    "ef.reset_index(drop=True, inplace=True)"
   ]
  }
 ],
 "metadata": {
  "kernelspec": {
   "display_name": "Python 3",
   "language": "python",
   "name": "python3"
  },
  "language_info": {
   "codemirror_mode": {
    "name": "ipython",
    "version": 3
   },
   "file_extension": ".py",
   "mimetype": "text/x-python",
   "name": "python",
   "nbconvert_exporter": "python",
   "pygments_lexer": "ipython3",
   "version": "3.10.7"
  },
  "orig_nbformat": 4
 },
 "nbformat": 4,
 "nbformat_minor": 2
}
